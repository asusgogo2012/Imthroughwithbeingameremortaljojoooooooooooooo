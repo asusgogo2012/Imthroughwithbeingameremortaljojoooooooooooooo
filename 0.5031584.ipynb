{
 "cells": [
  {
   "cell_type": "code",
   "execution_count": 2,
   "metadata": {},
   "outputs": [],
   "source": [
    "import pandas as pd\n",
    "from sklearn.model_selection import train_test_split\n",
    "from sklearn.ensemble import RandomForestClassifier\n",
    "from sklearn.metrics import accuracy_score\n",
    "\n",
    "train = pd.read_csv(\"dvc_data/train.csv\")\n",
    "test = pd.read_csv(\"dvc_data/test.csv\")\n",
    "submitID = test['ID']\n",
    "\n",
    "X = train.drop(['ID','Y'], axis=1)\n",
    "y = train['Y']\n",
    "test = test.drop(['ID'], axis=1)\n"
   ]
  },
  {
   "cell_type": "code",
   "execution_count": 84,
   "metadata": {},
   "outputs": [
    {
     "name": "stdout",
     "output_type": "stream",
     "text": [
      "0.6620370370370371\n",
      "0.6493055555555556\n",
      "0.6481481481481481\n",
      "0.6620370370370371\n",
      "0.6620370370370371\n",
      "0.6828703703703703\n",
      "0.6840277777777778\n",
      "0.6678240740740741\n",
      "0.6736111111111112\n",
      "0.6643518518518519\n",
      "0.6759259259259259\n",
      "0.6817129629629629\n",
      "0.6921296296296297\n",
      "0.6666666666666666\n",
      "0.6840277777777778\n"
     ]
    }
   ],
   "source": [
    "for i in range(15):\n",
    "    X_train, X_test, y_train, y_test = train_test_split(X, y, test_size=0.3)\n",
    "    clf = RandomForestClassifier(oob_score=True, \n",
    "                                 random_state=1000,\n",
    "    #                              splitter=\"random\",\n",
    "                                 criterion=\"gini\",\n",
    "                                max_features=35,\n",
    "                                n_estimators=300,\n",
    "                                max_depth=8)\n",
    "    clf.fit(X_train, y_train)\n",
    "\n",
    "# print(clf.feature_importances_)\n",
    "    pred = clf.predict(X_test)\n",
    "    if (accuracy_score(y_test, pred)>0.716):\n",
    "        print(accuracy_score(y_test, pred))\n",
    "        break\n",
    "    print(accuracy_score(y_test, pred))\n",
    "final = clf.predict_proba(test)\n",
    "\n",
    "# print (p)"
   ]
  },
  {
   "cell_type": "code",
   "execution_count": 85,
   "metadata": {},
   "outputs": [],
   "source": [
    "p=pd.DataFrame({'ID':submitID,'C1':final[0:300,0],'C2':final[0:300,1],'C3':final[0:300,2]})\n",
    "p.to_csv(\"submit_samples.csv\")"
   ]
  },
  {
   "cell_type": "code",
   "execution_count": null,
   "metadata": {},
   "outputs": [],
   "source": []
  },
  {
   "cell_type": "code",
   "execution_count": null,
   "metadata": {},
   "outputs": [],
   "source": []
  }
 ],
 "metadata": {
  "kernelspec": {
   "display_name": "Python 3",
   "language": "python",
   "name": "python3"
  },
  "language_info": {
   "codemirror_mode": {
    "name": "ipython",
    "version": 3
   },
   "file_extension": ".py",
   "mimetype": "text/x-python",
   "name": "python",
   "nbconvert_exporter": "python",
   "pygments_lexer": "ipython3",
   "version": "3.7.3"
  }
 },
 "nbformat": 4,
 "nbformat_minor": 2
}
